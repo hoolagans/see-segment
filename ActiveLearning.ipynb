{
 "cells": [
  {
   "cell_type": "code",
   "execution_count": null,
   "id": "8429ad82-07df-4266-8bec-e389d027be38",
   "metadata": {},
   "outputs": [],
   "source": [
    "from see.Segment_Fitness import FitnessFunction\n",
    "import copy\n",
    "FitnessFunction(datas[3].mask,datas[1].mask)"
   ]
  },
  {
   "cell_type": "code",
   "execution_count": 2,
   "id": "d7684b26-a9a8-4b32-8307-c6756a417612",
   "metadata": {},
   "outputs": [
    {
     "data": {
      "text/plain": [
       "[[0, 1], [0, 2], [0, 3], [1, 2], [1, 3], [2, 3]]"
      ]
     },
     "execution_count": 2,
     "metadata": {},
     "output_type": "execute_result"
    }
   ],
   "source": [
    "def GeneratePairs(size): #Generates each pair in a set\n",
    "    pairs=[]\n",
    "    for i in range(size):\n",
    "        for j in range(i+1,size):\n",
    "            pairs.append([i,j])\n",
    "    return pairs\n",
    "GeneratePairs(4)"
   ]
  },
  {
   "cell_type": "code",
   "execution_count": null,
   "id": "5d2a945d-de7a-4e4c-8a59-ef1dd741f2ce",
   "metadata": {},
   "outputs": [],
   "source": [
    "\n",
    "def UncertaintyValue(segmenters,data): #Compute uncertainty value\n",
    "    #Generate N copies of image\n",
    "    dataCopies=[copy.deepcopy(data) for i in range(len(segmenters))]\n",
    "\n",
    "    #Create segmenters\n",
    "    segs=[workflow(i) for i in segmenters]\n",
    "\n",
    "    #Run each segmenter on a copy of an image\n",
    "    dataCopies=[segs[i].runAlgo(dataCopies[i]) for i in range(len(segs))]\n",
    "\n",
    "    #Return the mean difference between each pairwise prediction\n",
    "    uncertainty=mean([FitnessFunction(dataCopies[i[0]],dataCopies[i[1]]) for i in GeneratePairs(len(dataCopies))])\n",
    "    return uncertainty\n",
    "\n",
    "UncertaintyValue"
   ]
  },
  {
   "cell_type": "code",
   "execution_count": null,
   "id": "b30a3b60",
   "metadata": {},
   "outputs": [],
   "source": [
    "def ALSearch(segmenters,dataSet): #Search data set for image with highest uncertainty value\n",
    "    #Generate uncertainty value for each image\n",
    "    uncertainties=[UncertaintyValue(segmenters,data) for data in dataSet]\n",
    "\n",
    "    #Return copy of image with most uncertainty (should this be argmax?)\n",
    "    return copy.deepcopy(dataSet[np.argmin(uncertainties)])"
   ]
  },
  {
   "cell_type": "code",
   "execution_count": null,
   "id": "9610f98b-589f-43b3-bd2e-e72a43e95aa1",
   "metadata": {},
   "outputs": [],
   "source": [
    "def ActiveLearning(trainingDataSet,testData):\n",
    "    \n",
    "    #Select a single image from training set to initialize active training set\n",
    "    \n",
    "    #Begin loop over active learning iterations \n",
    "        #Execute first round of evolution\n",
    "\n",
    "        #Generate model ensemble from quality models in the population (HoF)\n",
    "\n",
    "        #Use ALSearch to maximize uncertainty over unselected training set\n",
    "\n",
    "        #Add new sample to training set\n",
    "\n",
    "        #Record current best performance on test data and append to tracking list\n",
    "\n",
    "        #Update iteration number\n",
    "\n",
    "    #Return best model found, best fitness found, and fitness list\n",
    "    pass"
   ]
  }
 ],
 "metadata": {
  "kernelspec": {
   "display_name": "Python 3.9.13 64-bit",
   "language": "python",
   "name": "python3"
  },
  "language_info": {
   "codemirror_mode": {
    "name": "ipython",
    "version": 3
   },
   "file_extension": ".py",
   "mimetype": "text/x-python",
   "name": "python",
   "nbconvert_exporter": "python",
   "pygments_lexer": "ipython3",
   "version": "3.9.13"
  },
  "vscode": {
   "interpreter": {
    "hash": "b0fa6594d8f4cbf19f97940f81e996739fb7646882a419484c72d19e05852a7e"
   }
  }
 },
 "nbformat": 4,
 "nbformat_minor": 5
}
