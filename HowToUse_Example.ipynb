{
 "cells": [
  {
   "cell_type": "markdown",
   "metadata": {},
   "source": [
    "# Simple Evolutionary Exploration  Walkthrough\n",
    "\n",
    "This notebook contains instructions on how to use the SEE module, along with several examples. These instructions will cover the following parts: \n",
    "* [Import Image Files](#Import_Image_Files)\n",
    "* [Manual Search](#Manual_Search)\n",
    "* [Genetic Algorithm Search](#Genetic_Algorithm_Search)\n",
    "* [Reading the Results](#Reading_the_Results)"
   ]
  },
  {
   "cell_type": "markdown",
   "metadata": {},
   "source": [
    "----\n",
    "<a name=\"Import_Image_Files\"></a>\n",
    "\n",
    "## Import Image Files"
   ]
  },
  {
   "cell_type": "markdown",
   "metadata": {},
   "source": [
    "First import the following packages:"
   ]
  },
  {
   "cell_type": "code",
   "execution_count": null,
   "metadata": {},
   "outputs": [],
   "source": [
    "\n",
    "%matplotlib inline\n",
    "import matplotlib.pylab as plt\n",
    "import imageio\n",
    "from see import Segmentors\n",
    "from see import JupyterGUI"
   ]
  },
  {
   "cell_type": "code",
   "execution_count": null,
   "metadata": {},
   "outputs": [],
   "source": [
    "import imageio\n",
    "\n",
    "img = imageio.imread('Image_data/Examples/AA_Chameleon.jpg')\n",
    "gmask = imageio.imread('Image_data/Examples/AA_Chameleon_GT.png')\n",
    "\n",
    "fig = plt.figure(figsize=(20, 20))\n",
    "my_ax = fig.add_subplot(1, 2, 1)\n",
    "my_ax.imshow(img)\n",
    "my_ax = fig.add_subplot(1, 2, 2)\n",
    "my_ax.imshow(gmask)"
   ]
  },
  {
   "cell_type": "code",
   "execution_count": null,
   "metadata": {},
   "outputs": [],
   "source": [
    "from see import base_classes\n",
    "\n",
    "# put data in a pipeline\n",
    "data = base_classes.pipedata()\n",
    "data.img = img\n",
    "data.gmask = gmask"
   ]
  },
  {
   "cell_type": "markdown",
   "metadata": {},
   "source": [
    "----\n",
    "<a name=\"Genetic_Algorithm_Search\"></a>\n",
    "\n",
    "## Genetic Algorithm Search"
   ]
  },
  {
   "cell_type": "markdown",
   "metadata": {},
   "source": [
    "First import image files, as well as the following packages:"
   ]
  },
  {
   "cell_type": "code",
   "execution_count": null,
   "metadata": {},
   "outputs": [],
   "source": [
    "from see.Segmentors import segmentor\n",
    "from see.ColorSpace import colorspace\n",
    "from see.Workflow import workflow\n",
    "from see.Segment_Fitness import segment_fitness\n",
    "from see import base_classes, GeneticSearch\n",
    "\n",
    "#define an algorithm workflow\n",
    "workflow.addalgos([colorspace, segmentor, segment_fitness])"
   ]
  },
  {
   "cell_type": "markdown",
   "metadata": {},
   "source": [
    "To run the genetic algorithm, we need to initialize an instance of an evolver. The original image and ground truth segmentation image are inputs to it, along with an integer value for population size. This value sets how many indivudals are in our population. For this example, we'll set this number to be equal to 10."
   ]
  },
  {
   "cell_type": "code",
   "execution_count": null,
   "metadata": {},
   "outputs": [],
   "source": [
    "#TODO This needs to be fixed Using the new syntax.\n",
    "#my_evolver = GeneticSearch.Evolver(workflow, mydata, pop_size=10)\n",
    "my_evolver = GeneticSearch.Evolver(workflow, data, pop_size=100)"
   ]
  },
  {
   "cell_type": "markdown",
   "metadata": {},
   "source": [
    "Now that the evolver has been initialized, we can run the genetic algorithm for a specified number of generations (or iterations). Here we will set this number equal to 5."
   ]
  },
  {
   "cell_type": "code",
   "execution_count": null,
   "metadata": {},
   "outputs": [],
   "source": [
    "x = Segmentors.SlicO()"
   ]
  },
  {
   "cell_type": "code",
   "execution_count": null,
   "metadata": {},
   "outputs": [],
   "source": [
    "# warnings may appear when this runs\n",
    "population = my_evolver.run(ngen=50)"
   ]
  },
  {
   "cell_type": "code",
   "execution_count": null,
   "metadata": {},
   "outputs": [],
   "source": [
    "import matplotlib.pyplot as plt\n",
    "fit=my_evolver.fitnessTracking()\n",
    "print(fit)\n",
    "plt.scatter(range(len(fit)),fit)\n",
    "plt.yscale(\"log\")"
   ]
  },
  {
   "cell_type": "markdown",
   "metadata": {},
   "source": [
    "----\n",
    "<a name=\"Reading_the_Results\"></a>\n",
    "\n",
    "## Reading the Results"
   ]
  },
  {
   "cell_type": "markdown",
   "metadata": {},
   "source": [
    "After the genetic algorithm is complete, we can retrieve the individuals that resulted in the lowest (best) fitness values by printing `my_evolver.hof`. These individuals are sorted according to fitness value, so to get the overal best individual, we can simply look at the first individual in the list. "
   ]
  },
  {
   "cell_type": "code",
   "execution_count": null,
   "metadata": {},
   "outputs": [],
   "source": [
    "params = my_evolver.hof[0]\n",
    "\n",
    "print('Best Individual:\\n', params)\n",
    "params.fitness"
   ]
  },
  {
   "cell_type": "code",
   "execution_count": null,
   "metadata": {},
   "outputs": [],
   "source": [
    "my_evolver.hof[0:5]"
   ]
  },
  {
   "cell_type": "markdown",
   "metadata": {},
   "source": [
    "We can see the mask this individual generates by evaluating it, then plotting the result:"
   ]
  },
  {
   "cell_type": "code",
   "execution_count": null,
   "metadata": {},
   "outputs": [],
   "source": [
    "seg = workflow(my_evolver.hof[0])\n",
    "data1 = seg.runAlgo(data)\n",
    "\n",
    "plt.figure(figsize=(20, 10))\n",
    "plt.subplot(121)\n",
    "plt.imshow(data1.img)\n",
    "plt.title(\"Original Image\")\n",
    "plt.axis('off')\n",
    "\n",
    "plt.subplot(122)\n",
    "plt.imshow(data1.mask)\n",
    "plt.title(\"Segmentation\")\n",
    "plt.axis('off')\n",
    "\n",
    "plt.tight_layout\n",
    "plt.show()"
   ]
  },
  {
   "cell_type": "code",
   "execution_count": null,
   "metadata": {},
   "outputs": [],
   "source": [
    "seg = workflow(params)\n",
    "data = seg.runAlgo(data)\n",
    "\n",
    "plt.figure(figsize=(20, 10))\n",
    "plt.subplot(121)\n",
    "plt.imshow(data.img)\n",
    "plt.title(\"Original Image\")\n",
    "plt.axis('off')\n",
    "\n",
    "plt.subplot(122)\n",
    "plt.imshow(data.mask)\n",
    "plt.title(\"Segmentation\")\n",
    "plt.axis('off')\n",
    "\n",
    "plt.tight_layout\n",
    "plt.show()"
   ]
  },
  {
   "cell_type": "markdown",
   "metadata": {},
   "source": [
    "We can also use `FitnessFunction` to calculate the final fitness value for this algorithm:"
   ]
  },
  {
   "cell_type": "code",
   "execution_count": null,
   "metadata": {},
   "outputs": [],
   "source": [
    "import copy"
   ]
  },
  {
   "cell_type": "code",
   "execution_count": null,
   "metadata": {},
   "outputs": [],
   "source": [
    "print('Fitness Value: ', data.fitness)\n",
    "import copy"
   ]
  },
  {
   "cell_type": "code",
   "execution_count": null,
   "metadata": {},
   "outputs": [],
   "source": [
    "datas=[copy.deepcopy(data) for i in range(len(my_evolver.hof[:]))]\n",
    "segs=[workflow(i) for i in my_evolver.hof[:]]\n",
    "datas=[segs[i].runAlgo(datas[i]) for i in range(len(segs))]\n",
    "\n",
    "for i in datas:\n",
    "    plt.figure(figsize=(20, 10))\n",
    "    plt.subplot(121)\n",
    "    plt.imshow(i.img)\n",
    "    plt.title(\"Original Image\")\n",
    "    plt.axis('off')\n",
    "\n",
    "    plt.subplot(122)\n",
    "    plt.imshow(i.mask)\n",
    "    plt.title(\"Segmentation\")\n",
    "    plt.axis('off')\n",
    "\n",
    "    plt.tight_layout\n",
    "    plt.show()"
   ]
  },
  {
   "cell_type": "code",
   "execution_count": null,
   "metadata": {},
   "outputs": [],
   "source": [
    "from see.Segment_Fitness import FitnessFunction\n",
    "FitnessFunction(datas[3].mask,datas[1].mask)"
   ]
  },
  {
   "cell_type": "code",
   "execution_count": null,
   "metadata": {},
   "outputs": [],
   "source": [
    "import numpy as np\n",
    "import see.ActiveLearning as al\n",
    "def GeneratePairs(size):\n",
    "    pairs=[]\n",
    "    for i in range(size):\n",
    "        for j in range(i+1,size):\n",
    "            pairs.append([i,j])\n",
    "    return pairs\n",
    "GeneratePairs(4)\n",
    "def UncertaintyValue(segmenters,data):\n",
    "    dataCopies=[copy.deepcopy(data) for i in range(len(segmenters))]\n",
    "    segs=[workflow(i) for i in segmenters]\n",
    "    dataCopies=[segs[i].runAlgo(dataCopies[i]) for i in range(len(segs))]\n",
    "    uncertainty=np.mean([FitnessFunction(dataCopies[i[0]],dataCopies[i[1]]) for i in GeneratePairs(len(dataCopies))])\n",
    "    return uncertainty\n",
    "\n",
    "al.UncertaintyValue(my_evolver.hof[0:4],data)"
   ]
  },
  {
   "cell_type": "code",
   "execution_count": null,
   "metadata": {},
   "outputs": [],
   "source": [
    "def unique_models(tpop):\n",
    "    uniqueMods=[]\n",
    "    for mod in tpop:\n",
    "        test=False\n",
    "        for checkedMod in uniqueMods:\n",
    "            if mod==checkedMod:\n",
    "                test=True\n",
    "            \n",
    "        if not test:\n",
    "            uniqueMods.append(copy.deepcopy(mod))\n",
    "    return uniqueMods\n",
    "len(unique_models(my_evolver.hof[:]))"
   ]
  },
  {
   "cell_type": "code",
   "execution_count": null,
   "metadata": {},
   "outputs": [],
   "source": [
    "al.ActiveArgs(my_evolver.hof[0])"
   ]
  },
  {
   "cell_type": "code",
   "execution_count": null,
   "metadata": {},
   "outputs": [],
   "source": [
    "my_evolver.hof[0]"
   ]
  },
  {
   "cell_type": "code",
   "execution_count": null,
   "metadata": {},
   "outputs": [],
   "source": [
    "for data in datas:\n",
    "    print(data.fitness)"
   ]
  },
  {
   "cell_type": "code",
   "execution_count": null,
   "metadata": {},
   "outputs": [],
   "source": [
    "data1.fitness"
   ]
  },
  {
   "cell_type": "code",
   "execution_count": null,
   "metadata": {},
   "outputs": [],
   "source": []
  }
 ],
 "metadata": {
  "kernelspec": {
   "display_name": "Python 3 (ipykernel)",
   "language": "python",
   "name": "python3"
  },
  "language_info": {
   "codemirror_mode": {
    "name": "ipython",
    "version": 3
   },
   "file_extension": ".py",
   "mimetype": "text/x-python",
   "name": "python",
   "nbconvert_exporter": "python",
   "pygments_lexer": "ipython3",
   "version": "3.8.12"
  }
 },
 "nbformat": 4,
 "nbformat_minor": 4
}
