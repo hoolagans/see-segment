{
 "cells": [
  {
   "cell_type": "markdown",
   "metadata": {},
   "source": [
    "# Simple Evolutionary Exploration  Walkthrough\n",
    "\n",
    "This notebook contains instructions on how to use the SEE module, along with several examples. These instructions will cover the following parts: \n",
    "* [Import Image Files](#Import_Image_Files)\n",
    "* [Manual Search](#Manual_Search)\n",
    "* [Genetic Algorithm Search](#Genetic_Algorithm_Search)\n",
    "* [Reading the Results](#Reading_the_Results)\n",
    "\n",
    "These examples use the Jupyter widgets to make it interactive and easier to use and learn."
   ]
  },
  {
   "cell_type": "markdown",
   "metadata": {},
   "source": [
    "----\n",
    "<a name=\"Import_Image_Files\"></a>\n",
    "\n",
    "## Import Image Files"
   ]
  },
  {
   "cell_type": "markdown",
   "metadata": {},
   "source": [
    "First import the following packages:"
   ]
  },
  {
   "cell_type": "code",
   "execution_count": null,
   "metadata": {},
   "outputs": [],
   "source": [
    "%matplotlib inline\n",
    "import matplotlib.pylab as plt\n",
    "import imageio\n",
    "from see import Segmentors\n",
    "from see import JupyterGUI"
   ]
  },
  {
   "cell_type": "markdown",
   "metadata": {},
   "source": [
    "Pick an image from the example folder."
   ]
  },
  {
   "cell_type": "code",
   "execution_count": null,
   "metadata": {
    "scrolled": false
   },
   "outputs": [],
   "source": [
    "data = JupyterGUI.pickimage('Image_data/Examples/')"
   ]
  },
  {
   "cell_type": "markdown",
   "metadata": {},
   "source": [
    "# Select ColorSpace"
   ]
  },
  {
   "cell_type": "code",
   "execution_count": null,
   "metadata": {
    "scrolled": false
   },
   "outputs": [],
   "source": [
    "colorspace = JupyterGUI.colorwidget(data.img, paramlist=None)"
   ]
  },
  {
   "cell_type": "markdown",
   "metadata": {},
   "source": [
    "----\n",
    "<a name=\"Manual_Search\"></a>\n",
    "\n",
    "## Manual Search"
   ]
  },
  {
   "cell_type": "markdown",
   "metadata": {},
   "source": [
    "Manual searching of parameters can easily be done using the provided GUI. Pre-established parameters can be put into the widget, or the parameter values can be changed using the sliders. To change the algorithm, simply change the `alg` input. For a list of available inputs print `Segmentors.algorithmspace`\n"
   ]
  },
  {
   "cell_type": "code",
   "execution_count": null,
   "metadata": {},
   "outputs": [],
   "source": [
    "from see.Segmentors import segmentor\n",
    "\n",
    "alg = JupyterGUI.picksegment(list(segmentor.algorithmspace.keys()))"
   ]
  },
  {
   "cell_type": "code",
   "execution_count": null,
   "metadata": {
    "scrolled": false
   },
   "outputs": [],
   "source": [
    "### Example of input for params\n",
    "params = JupyterGUI.segmentwidget(data.img, params = None, alg = alg.value)"
   ]
  },
  {
   "cell_type": "markdown",
   "metadata": {},
   "source": [
    "----\n",
    "<a name=\"Genetic_Algorithm_Search\"></a>\n",
    "\n",
    "## Genetic Algorithm Search"
   ]
  },
  {
   "cell_type": "markdown",
   "metadata": {},
   "source": [
    "First import image files, as well as the following packages:"
   ]
  },
  {
   "cell_type": "code",
   "execution_count": null,
   "metadata": {},
   "outputs": [],
   "source": [
    "from see.Segmentors import segmentor\n",
    "from see.ColorSpace import colorspace\n",
    "from see.Workflow import workflow\n",
    "from see.Segment_Fitness import segment_fitness\n",
    "from see import base_classes, GeneticSearch\n",
    "#define algo work flow\n",
    "workflow.addalgos([colorspace, segmentor, segment_fitness])"
   ]
  },
  {
   "cell_type": "markdown",
   "metadata": {},
   "source": [
    "To run the genetic algorithm, we need to initialize an instance of an evolver. The original image and ground truth segmentation image are inputs to it, along with an integer value for population size. This value sets how many indivudals are in our population. For this example, we'll set this number to be equal to 10."
   ]
  },
  {
   "cell_type": "code",
   "execution_count": null,
   "metadata": {},
   "outputs": [],
   "source": [
    "mydata = base_classes.pipedata()\n",
    "mydata.img = data.img\n",
    "mydata.gmask = data.gmask\n",
    "#def geneticsearch\n",
    "my_evolver = GeneticSearch.Evolver(workflow, mydata, pop_size=10)"
   ]
  },
  {
   "cell_type": "markdown",
   "metadata": {},
   "source": [
    "Now that the evolver has been initialized, we can run the genetic algorithm for a specified number of generations (or iterations). Here we will set this number equal to 5."
   ]
  },
  {
   "cell_type": "code",
   "execution_count": null,
   "metadata": {
    "scrolled": false
   },
   "outputs": [],
   "source": [
    "# warnings may appear when this runs\n",
    "#population -- Resulting population after ngen generations.\n",
    "population = my_evolver.run(ngen=5) #5 generation\n",
    "#fitness 1 is worse , 0 is good"
   ]
  },
  {
   "cell_type": "markdown",
   "metadata": {},
   "source": [
    "<class 'see.Workflow.workflow'> parameters: \n",
    "\tcolorspace = YUV\n",
    "\tmultichannel = False\n",
    "\tchannel = 0\n",
    "\talgorithm = Felzenszwalb\n",
    "\talpha1 = 0.1875\n",
    "\talpha2 = 0.921875\n",
    "\tbeta1 = 0.74609375\n",
    "\tbeta2 = 0.296875\n",
    "\tgamma1 = 0.609375\n",
    "\tgamma2 = 0.46875\n",
    "\tn_segments = 8\n",
    "\tmax_iter = 10\n",
    "\n",
    "Time: 4.706 s\n",
    "fitness=0.13652921828966982\n",
    "\n",
    "\n",
    "#BEST [0.13652921828966982,  ['YUV', False, 0, 'Felzenszwalb', 0.1875, 0.921875, 0.74609375, 0.296875, 0.609375, 0.46875, 8, 10]]"
   ]
  },
  {
   "cell_type": "markdown",
   "metadata": {},
   "source": [
    "----\n",
    "<a name=\"Reading_the_Results\"></a>\n",
    "\n",
    "## Reading the Results"
   ]
  },
  {
   "cell_type": "markdown",
   "metadata": {},
   "source": [
    "After the genetic algorithm is complete, we can retrieve the individuals that resulted in the lowest (best) fitness values by printing `my_evolver.hof`. These individuals are sorted according to fitness value, so to get the overal best individual, we can simply look at the first individual in the list. "
   ]
  },
  {
   "cell_type": "code",
   "execution_count": null,
   "metadata": {},
   "outputs": [],
   "source": [
    "params = my_evolver.hof[0]\n",
    "\n",
    "print('Best Individual:\\n', params)"
   ]
  },
  {
   "cell_type": "markdown",
   "metadata": {},
   "source": [
    "We can see the mask this individual generates by evaluating it, then plotting the result:"
   ]
  },
  {
   "cell_type": "code",
   "execution_count": null,
   "metadata": {},
   "outputs": [],
   "source": [
    "#['YUV', False, 0, 'Felzenszwalb', 0.1875, 0.921875, 0.74609375, 0.296875, 0.609375, 0.46875, 8, 10]\n",
    "#------------------------------------\n",
    "#this line is the original code\n",
    "#seg = Segmentors.algoFromParams(params)\n",
    "# no attribute  .algoFromParams\n",
    "#------------------------------------\n",
    "#what if the class is called wrong: \n",
    "#seg = segmentor(param)\n",
    "# KeyError: 'YUV'\n",
    "#------------------------------------\n",
    "\n",
    "#use workflow instead, to create a workf class\n",
    "#since the parameter input might produce error, use the workflow's parameter to make a seg object\n",
    "workf = workflow(params)\n",
    "seg = segmentor(workf.params)\n",
    "data.mask = seg.evaluate(data.img)\n",
    "\n",
    "plt.figure(figsize=(20, 10))\n",
    "plt.subplot(121)\n",
    "plt.imshow(data.img)\n",
    "plt.title(\"Original Image\")\n",
    "plt.axis('off')\n",
    "\n",
    "plt.subplot(122)\n",
    "plt.imshow(data.mask)\n",
    "plt.title(\"Segmentation\")\n",
    "plt.axis('off')\n",
    "\n",
    "plt.tight_layout\n",
    "plt.show()"
   ]
  },
  {
   "cell_type": "code",
   "execution_count": null,
   "metadata": {},
   "outputs": [],
   "source": [
    "from see.Segment_Fitness import segment_fitness"
   ]
  },
  {
   "cell_type": "markdown",
   "metadata": {},
   "source": [
    "We can also use `FitnessFunction` to calculate the final fitness value for this algorithm:"
   ]
  },
  {
   "cell_type": "code",
   "execution_count": null,
   "metadata": {},
   "outputs": [],
   "source": [
    "#This is original code\n",
    "#print('Fitness Value: ', Segmentors.FitnessFunction(mask, data.mask)[0])\n",
    "#AttributeError: module 'see.Segmentors' has no attribute 'FitnessFunction'\n",
    "#------------------------------------\n",
    "print('Fitness Value: ', segment_fitness().evaluate(data.mask, data.gmask)[0])"
   ]
  },
  {
   "cell_type": "markdown",
   "metadata": {},
   "source": [
    "If this value is satisfactory, we can then get usable code to run this algorithm anywhere, including outside this notebook. The `print_best_algorithm_code` function does this using the given individual:"
   ]
  },
  {
   "cell_type": "code",
   "execution_count": null,
   "metadata": {},
   "outputs": [],
   "source": [
    "print(seg.algorithm_code())"
   ]
  },
  {
   "cell_type": "markdown",
   "metadata": {},
   "source": [
    "With this code, make sure to import skimage, along with any input images this algorithm will be applied to."
   ]
  }
 ],
 "metadata": {
  "kernelspec": {
   "display_name": "Python 3 (ipykernel)",
   "language": "python",
   "name": "python3"
  },
  "language_info": {
   "codemirror_mode": {
    "name": "ipython",
    "version": 3
   },
   "file_extension": ".py",
   "mimetype": "text/x-python",
   "name": "python",
   "nbconvert_exporter": "python",
   "pygments_lexer": "ipython3",
   "version": "3.9.13"
  }
 },
 "nbformat": 4,
 "nbformat_minor": 4
}
